{
  "cells": [
    {
      "cell_type": "markdown",
      "id": "edb27a52-25b6-4e39-bf35-d3a27ea8bde5",
      "metadata": {
        "id": "edb27a52-25b6-4e39-bf35-d3a27ea8bde5"
      },
      "source": [
        "## Obtenção de dados\n",
        "\n",
        "Scrapping repositório UFPE"
      ]
    },
    {
      "cell_type": "markdown",
      "id": "d7128e1a-174b-4d2a-abad-44c055e31183",
      "metadata": {
        "id": "d7128e1a-174b-4d2a-abad-44c055e31183"
      },
      "source": [
        "### Requirements"
      ]
    },
    {
      "cell_type": "code",
      "execution_count": 40,
      "id": "61e33ab6-d4a9-49b5-9217-2b192cc2f1b6",
      "metadata": {
        "id": "61e33ab6-d4a9-49b5-9217-2b192cc2f1b6"
      },
      "outputs": [],
      "source": [
        "import requests\n",
        "from bs4 import BeautifulSoup\n",
        "import json\n",
        "import os\n",
        "from pathlib import Path"
      ]
    },
    {
      "cell_type": "markdown",
      "id": "1b778dbf-ce3e-455f-b1ec-8e67fd183a0e",
      "metadata": {
        "id": "1b778dbf-ce3e-455f-b1ec-8e67fd183a0e"
      },
      "source": [
        "### Funções Auxiliares"
      ]
    },
    {
      "cell_type": "code",
      "execution_count": 41,
      "id": "1224a040-d0a7-4fa7-9aee-765b18d18cc7",
      "metadata": {
        "id": "1224a040-d0a7-4fa7-9aee-765b18d18cc7"
      },
      "outputs": [],
      "source": [
        "def read_page_get_links(keywords: str) -> list:\n",
        "    \"\"\"\n",
        "    Recebe a query como input e retorna os links disponiveis na primeira página do repositório da UFPE.\n",
        "    \n",
        "    Exemplo de query:\n",
        "    \n",
        "    \"machine learning\"\n",
        "        \n",
        "    \"\"\"\n",
        "    keywords = keywords.replace(\" \", \"+\")\n",
        "    \n",
        "    response = requests.get(\"https://repositorio.ufpe.br/simple-search?location=123456789%2F50&query={}\".format(keywords))\n",
        "    soup = BeautifulSoup(response.text.strip(), 'html.parser')\n",
        "    tags = soup.find_all(name='table')\n",
        "    tag_table = tags[0]\n",
        "    tags_a = tag_table.find_all(name='a')\n",
        "    \n",
        "    urls = []\n",
        "    \n",
        "    for i in range(0, len(tags_a), 2): #TODO: If query return 1 break\n",
        "        link = tags_a[i][\"href\"]\n",
        "        urls.append(link)\n",
        "    \n",
        "    return urls"
      ]
    },
    {
      "cell_type": "code",
      "execution_count": 42,
      "id": "27f3cfbc-5e7d-4075-967c-85d88fa90a7e",
      "metadata": {
        "id": "27f3cfbc-5e7d-4075-967c-85d88fa90a7e"
      },
      "outputs": [],
      "source": [
        "def read_table_get_title_and_abstract(info_table) -> dict:\n",
        "    \"\"\"\n",
        "    Recebe uma tabela de informações HTML e extrai o title e abstract\n",
        "    \n",
        "    \"\"\"\n",
        "    all_titles = info_table.find_all(name='td', attrs={'class': 'dc_title'})\n",
        "    title = all_titles[-1].contents[0]\n",
        "\n",
        "    all_abst = info_table.find_all(name='td', attrs={'class': 'dc_description_abstract'})\n",
        "    abst = all_abst[-1].contents[0]\n",
        "\n",
        "    dict_thesis_info = {}\n",
        "    dict_thesis_info = {\n",
        "        'title': title,\n",
        "        'abstract': abst,\n",
        "    }\n",
        "    return dict_thesis_info"
      ]
    },
    {
      "cell_type": "markdown",
      "id": "7ebd1934-1625-48ed-bf62-5608c283d720",
      "metadata": {
        "id": "7ebd1934-1625-48ed-bf62-5608c283d720"
      },
      "source": [
        "### Scrapping"
      ]
    },
    {
      "cell_type": "code",
      "execution_count": 43,
      "id": "19e02b81-07c0-440c-b7be-87a79ea511c5",
      "metadata": {
        "id": "19e02b81-07c0-440c-b7be-87a79ea511c5"
      },
      "outputs": [],
      "source": [
        "query = \"internet das coisas\""
      ]
    },
    {
      "cell_type": "code",
      "source": [
        "from google.colab import drive\n",
        "drive.mount('/content/drive')"
      ],
      "metadata": {
        "colab": {
          "base_uri": "https://localhost:8080/"
        },
        "id": "xl78lHU1_inW",
        "outputId": "da5eb60f-0be4-4557-e404-5ffca722b689"
      },
      "id": "xl78lHU1_inW",
      "execution_count": 50,
      "outputs": [
        {
          "output_type": "stream",
          "name": "stdout",
          "text": [
            "Mounted at /content/drive\n"
          ]
        }
      ]
    },
    {
      "cell_type": "code",
      "execution_count": 44,
      "id": "3568143e-5363-40ac-a029-65264832a138",
      "metadata": {
        "id": "3568143e-5363-40ac-a029-65264832a138"
      },
      "outputs": [],
      "source": [
        "urls = read_page_get_links(query)"
      ]
    },
    {
      "cell_type": "code",
      "execution_count": 45,
      "id": "9d8e5414-29a9-4a2e-a24f-b90e773a3e00",
      "metadata": {
        "id": "9d8e5414-29a9-4a2e-a24f-b90e773a3e00",
        "outputId": "87e9fea9-fe06-48a6-a1c3-5ee073b30a33",
        "colab": {
          "base_uri": "https://localhost:8080/"
        }
      },
      "outputs": [
        {
          "output_type": "execute_result",
          "data": {
            "text/plain": [
              "['/handle/123456789/29048',\n",
              " '/handle/123456789/25843',\n",
              " '/handle/123456789/24694',\n",
              " '/handle/123456789/34459',\n",
              " '/handle/123456789/32121',\n",
              " '/handle/123456789/24888',\n",
              " '/handle/123456789/28006',\n",
              " '/handle/123456789/25680',\n",
              " '/handle/123456789/3997',\n",
              " '/handle/123456789/22418']"
            ]
          },
          "metadata": {},
          "execution_count": 45
        }
      ],
      "source": [
        "urls"
      ]
    },
    {
      "cell_type": "code",
      "execution_count": 46,
      "id": "3baecf06-fbcc-4f39-8842-0223f289ab96",
      "metadata": {
        "id": "3baecf06-fbcc-4f39-8842-0223f289ab96"
      },
      "outputs": [],
      "source": [
        "info_table = []\n",
        "\n",
        "for url in urls:\n",
        "    response = requests.get(f'https://repositorio.ufpe.br/{url}', allow_redirects=True)\n",
        "    soup = BeautifulSoup(response.text.strip(), 'html.parser')\n",
        "    tags_table = soup.find_all(name='table', attrs={'class': 'itemDisplayTable'})\n",
        "    info_table.append(tags_table[0])"
      ]
    },
    {
      "cell_type": "code",
      "execution_count": 47,
      "id": "cb2b989d-b83f-4693-b64c-a76da5de6cf4",
      "metadata": {
        "id": "cb2b989d-b83f-4693-b64c-a76da5de6cf4",
        "outputId": "39335b81-9b1d-45ee-8777-c0340c686529",
        "colab": {
          "base_uri": "https://localhost:8080/"
        }
      },
      "outputs": [
        {
          "output_type": "execute_result",
          "data": {
            "text/plain": [
              "10"
            ]
          },
          "metadata": {},
          "execution_count": 47
        }
      ],
      "source": [
        "len(info_table)"
      ]
    },
    {
      "cell_type": "code",
      "source": [
        "print(info_table)"
      ],
      "metadata": {
        "id": "G_z5JXeQ73Ak",
        "outputId": "829b349c-168e-4c27-bb0b-d784e7836a7d",
        "colab": {
          "base_uri": "https://localhost:8080/"
        }
      },
      "id": "G_z5JXeQ73Ak",
      "execution_count": 48,
      "outputs": [
        {
          "output_type": "stream",
          "name": "stdout",
          "text": [
            "[<table class=\"table itemDisplayTable\">\n",
            "<tr><td class=\"metadataFieldLabel dc_title\">Title: </td><td class=\"metadataFieldValue dc_title\">Dependência de Internet: um estudo das propriedades psicométricas da versão adaptada ao português brasileiro do Internet Addiction Test (IAT)</td></tr>\n",
            "<tr><td class=\"metadataFieldLabel dc_contributor_author\">Authors: </td><td class=\"metadataFieldValue dc_contributor_author\"><a class=\"author\" href=\"/browse?type=author&amp;value=ALMO%C3%8ADO+DE+ASSIS%2C+Ra%C3%ADssa\">ALMOÊDO DE ASSIS, Raíssa</a></td></tr>\n",
            "<tr><td class=\"metadataFieldLabel dc_subject\">Keywords: </td><td class=\"metadataFieldValue dc_subject\">Dependência de internet; IAT; Psicometria; Avaliação psicológica</td></tr>\n",
            "<tr><td class=\"metadataFieldLabel dc_date_issued\">Issue Date: </td><td class=\"metadataFieldValue dc_date_issued\">25-Feb-2014</td></tr>\n",
            "<tr><td class=\"metadataFieldLabel dc_publisher\">Publisher: </td><td class=\"metadataFieldValue dc_publisher\">Universidade Federal de Pernambuco</td></tr>\n",
            "<tr><td class=\"metadataFieldLabel dc_description_abstract\">Abstract: </td><td class=\"metadataFieldValue dc_description_abstract\">Este trabalho estruturou-se em três seções que se articulam a partir de um eixo temático sustentado na compreensão de que a Internet conquanto se afigure para a maioria das pessoas como uma ferramenta de uso eficaz na educação formal e informal, no entretenimento e no âmbito profissional, os potenciais efeitos adversos advindos do seu uso na saúde psicológica ainda não foram bem estabelecidos. No estágio atual do debate acadêmico problematizar essas situações ainda se constitui desafio tanto ao nível acadêmico como clínico, daí o propósito mais amplo desse trabalho ser investigar as propriedades psicométricas de uma medida de dependência de internet (DI). Este tema decomposto gerou uma primeira parte na qual se buscou revisar a literatura acessível sobre o tema procurando ampliar para outras frentes os estudos acerca da DI no viés da avaliação psicológica. Num segundo momento empreendeu-se a revisão e investigação das propriedades psicométricas de um instrumento de avaliação da DI, o Internet Addiction Test – IAT evidenciando-se a sua validade fatorial e bons índices de fidedignidade o que permite sua recomendação para pesquisas na área. A última seção deste trabalho intitulada, IAT-Br-Revisado: Evidências de Validade Baseadas nas Relações com Variáveis Externas desenvolveu-se na perspectiva indicada por sua denominação, verificando-se a associação do comportamento dependente da Internet com a quantidade de horas online por semana, aspectos das Habilidades Sociais e Traços de Personalidade.</td></tr>\n",
            "<tr><td class=\"metadataFieldLabel dc_identifier_uri\">URI: </td><td class=\"metadataFieldValue dc_identifier_uri\"><a href=\"https://repositorio.ufpe.br/handle/123456789/29048\">https://repositorio.ufpe.br/handle/123456789/29048</a></td></tr>\n",
            "<tr><td class=\"metadataFieldLabel\">Appears in Collections:</td><td class=\"metadataFieldValue\"><a href=\"/handle/123456789/337\">Dissertações de Mestrado - Psicologia Cognitiva</a><br/></td></tr>\n",
            "</table>, <table class=\"table itemDisplayTable\">\n",
            "<tr><td class=\"metadataFieldLabel dc_title\">Title: </td><td class=\"metadataFieldValue dc_title\">xPresumo: um middleware orientado à mensagens para internet das coisas</td></tr>\n",
            "<tr><td class=\"metadataFieldLabel dc_contributor_author\">Authors: </td><td class=\"metadataFieldValue dc_contributor_author\"><a class=\"author\" href=\"/browse?type=author&amp;value=SOUSA%2C+Winder+Faik+de\">SOUSA, Winder Faik de</a></td></tr>\n",
            "<tr><td class=\"metadataFieldLabel dc_subject\">Keywords: </td><td class=\"metadataFieldValue dc_subject\">Redes de computadores; Internet das coisas</td></tr>\n",
            "<tr><td class=\"metadataFieldLabel dc_date_issued\">Issue Date: </td><td class=\"metadataFieldValue dc_date_issued\">30-Jun-2017</td></tr>\n",
            "<tr><td class=\"metadataFieldLabel dc_publisher\">Publisher: </td><td class=\"metadataFieldValue dc_publisher\">Universidade Federal de Pernambuco</td></tr>\n",
            "<tr><td class=\"metadataFieldLabel dc_description_abstract\">Abstract: </td><td class=\"metadataFieldValue dc_description_abstract\">Ambientes que antes eram desprovidos de tecnologia, hoje incorporam inúmeros objetos inteligentes (smartphones, smartwatch, smartglass, smart tv, entre outros) interagindo entre si. A comunicação entre esses objetos, na maioria das vezes distintos, trocando informações sobre determinado contexto, resume-se no conceito de Machine-to-Machine (M2M). A expansão desses objetos interconectados transformando ambientes comuns em ambientes inteligentes deu origem ao paradigma de Internet das Coisas - Internet of Things (IoT). Em virtude da relação entre mundo físico e mundo virtual proporcionada pela IoT, diversas aplicações tecnológicas nos mais diversos seguimentos poderão ser concretizadas. Entretanto, muitos desafios devem ser considerados na efetiva implantação desses recursos tecnológicos. Fatores voltados à complexidade na infraestrutura de comunicação e gerenciamento de diversos dispositivos no contexto de IoT (diversidade de dispositivos, tecnologias de redes distintas, entre outros), deixam evidente a necessidade de solucionar desafios como a heterogeneidade. Uma solução proposta para esse e outros problemas no cenário de Internet das Coisas é a adoção de uma arquitetura de middleware, no caso um Middleware Orientado à Mensagens (MOM). Neste estudo, foi realizado inicialmente um levantamento sistemático das principais soluções de middleware desenvolvidas no contexto de IoT. Posteriormente, foram identificados requisitos funcionais e não funcionais, modelos de distribuição e em quais domínios de aplicação essas soluções de middleware têm sido aplicadas. Finalmente, foi projetado um Middleware Orientado à Mensagens com características desejáveis ao ambiente de IoT, tal como, serviço de localização, adaptação dinâmica, segurança e assim por diante. A solução proposta, chamada xPresumo, reúne os principais recursos necessários à uma arquitetura de Middleware para IoT, levando em consideração desempenho e armazenamento limitado dos dispositivos. No quesito desempenho, o xPresumo se mostrou bastante estável nos experimentos realizados na troca de mensagens entre dispositivos.</td></tr>\n",
            "<tr><td class=\"metadataFieldLabel dc_identifier_uri\">URI: </td><td class=\"metadataFieldValue dc_identifier_uri\"><a href=\"https://repositorio.ufpe.br/handle/123456789/25843\">https://repositorio.ufpe.br/handle/123456789/25843</a></td></tr>\n",
            "<tr><td class=\"metadataFieldLabel\">Appears in Collections:</td><td class=\"metadataFieldValue\"><a href=\"/handle/123456789/249\">Dissertações de Mestrado - Ciência da Computação</a><br/></td></tr>\n",
            "</table>, <table class=\"table itemDisplayTable\">\n",
            "<tr><td class=\"metadataFieldLabel dc_title\">Title: </td><td class=\"metadataFieldValue dc_title\">Um serviço de segurança adaptável para aplicações da Internet das coisas baseadas no padrão 802.15.4</td></tr>\n",
            "<tr><td class=\"metadataFieldLabel dc_contributor_author\">Authors: </td><td class=\"metadataFieldValue dc_contributor_author\"><a class=\"author\" href=\"/browse?type=author&amp;value=MENDON%C3%87A+J%C3%9ANIOR%2C+Francisco+Ferreira+de\">MENDONÇA JÚNIOR, Francisco Ferreira de</a></td></tr>\n",
            "<tr><td class=\"metadataFieldLabel dc_subject\">Keywords: </td><td class=\"metadataFieldValue dc_subject\">Redes de computadores; Internet das coisas</td></tr>\n",
            "<tr><td class=\"metadataFieldLabel dc_date_issued\">Issue Date: </td><td class=\"metadataFieldValue dc_date_issued\">22-Aug-2016</td></tr>\n",
            "<tr><td class=\"metadataFieldLabel dc_publisher\">Publisher: </td><td class=\"metadataFieldValue dc_publisher\">Universidade Federal de Pernambuco</td></tr>\n",
            "<tr><td class=\"metadataFieldLabel dc_description_abstract\">Abstract: </td><td class=\"metadataFieldValue dc_description_abstract\">A Internet das Coisas - Internet of Things (IoT) - é uma arquitetura que pretende ser dinâmica e global, buscando prover autoconfiguração e interoperabilidade, principalmente através de tecnologias padronizadas. A consolidação da arquitetura passa pelo amadurecimento de tecnologias como as Redes de Sensores sem Fio (RSSF). Essas redes, formadas por dispositivos com limitações de recursos computacionais, podem apresentar restrições na comunicação quando são conectados diretamente à Internet. A coexistência entre dispositivos com limitações e dispositivos robustos faz com que as RSASF precisem receber ou transmitir dados cujo comprimento excede a carga útil disponível nos quadros em sua camada de enlace. Essa característica resulta em fragmentação da carga útil transmitida, causando degradação no desempenho e na carga útil destas redes. Nesse contexto, verifica-se a necessidade da busca de alternativas que possam adequar os dispositivos limitados à utilização mais eficiente da IoT. Este trabalho apresenta a proposta de um Serviço de Segurança Adaptável - Tunable Security Service (TSS) - para aplicações da Internet das Coisas baseadas no padrão 802.15.4. A manipulação do nível de segurança, através do TSS, é utilizada para reduzir a fragmentação e seus efeitos. O TSS é avaliado em relação ao atraso e ao consumo energético das redes, proporcionando uma redução de até 5% no consumo energético e de até 20% no atraso.</td></tr>\n",
            "<tr><td class=\"metadataFieldLabel dc_identifier_uri\">URI: </td><td class=\"metadataFieldValue dc_identifier_uri\"><a href=\"https://repositorio.ufpe.br/handle/123456789/24694\">https://repositorio.ufpe.br/handle/123456789/24694</a></td></tr>\n",
            "<tr><td class=\"metadataFieldLabel\">Appears in Collections:</td><td class=\"metadataFieldValue\"><a href=\"/handle/123456789/249\">Dissertações de Mestrado - Ciência da Computação</a><br/></td></tr>\n",
            "</table>, <table class=\"table itemDisplayTable\">\n",
            "<tr><td class=\"metadataFieldLabel dc_title\">Title: </td><td class=\"metadataFieldValue dc_title\">Um middleware para arquiteturas de internet do futuro: um estudo de caso com RINA</td></tr>\n",
            "<tr><td class=\"metadataFieldLabel dc_contributor_author\">Authors: </td><td class=\"metadataFieldValue dc_contributor_author\"><a class=\"author\" href=\"/browse?type=author&amp;value=LIMA%2C+%C3%8Anio+C%C3%A9sar+Silva+de\">LIMA, Ênio César Silva de</a></td></tr>\n",
            "<tr><td class=\"metadataFieldLabel dc_subject\">Keywords: </td><td class=\"metadataFieldValue dc_subject\">Redes de computadores; Internet do futuro; RINA</td></tr>\n",
            "<tr><td class=\"metadataFieldLabel dc_date_issued\">Issue Date: </td><td class=\"metadataFieldValue dc_date_issued\">12-Mar-2019</td></tr>\n",
            "<tr><td class=\"metadataFieldLabel dc_publisher\">Publisher: </td><td class=\"metadataFieldValue dc_publisher\">Universidade Federal de Pernambuco</td></tr>\n",
            "<tr><td class=\"metadataFieldLabel dc_description_abstract\">Abstract: </td><td class=\"metadataFieldValue dc_description_abstract\">O cenário da Internet mudou completamente da sua origem onde poucas aplicações ocupavam a rede e, hoje em dia, em que centenas de milhões de usuários transmitem cada vez mais informações através de aplicações. Todavia a Internet não foi preconcebida para esse desígnio e as aplicações que surgiram ao longo das últimas décadas foram “adaptadas” à rede de maneira desordenada. Consequentemente, representam um conjunto significativo de problemas e desafios, haja vista que a arquitetura atual da Internet já apresenta inúmeros problemas ainda não solucionados, impedindo o atendimento dos requisitos de novas aplicações e serviços. Diante desse cenário, surgiram propostas, intituladas arquiteturas de Internet do Futuro, que preconizam a reengenharia da Internet. No entanto, o desenvolvimento de aplicações para fazerem uso dessas novas arquiteturas de rede ainda é uma atividade pouco explorada, complexa, demorada e desafiadora. Portanto, esta dissertação propõe um Middleware Orientado a Mensagens que visa promover o desenvolvimento de aplicações para novas arquiteturas de Internet. A finalidade é tornar menos complexa e mais produtiva a construção de aplicações para a chamada Internet do Futuro, de modo que sejam transparentes os detalhes de programação em redes ao desenvolvedor da aplicação. A proposta aborda um aspecto polimórfico, o qual acredita-se que sua arquitetura poderá suportar APIs específicas para estabelecer comunicação entre aplicações utilizando protocolos e paradigmas exclusivos de distintas arquiteturas de rede. Foi implementada uma prova de conceito do Middleware com a RINA, arquitetura de Internet do Futuro que se baseia no paradigma de comunicação entre processos (IPC). Na experimentação, uma aplicação teste foi desenvolvida para transmitir mensagens usando o modelo publish/subscribe e uma avaliação experimental do protótipo foi realizada, o que validou os componentes e as funcionalidades. Com base nos resultados obtidos, acredita-se que o Middleware poderá abarcar demais arquiteturas de Internet do Futuro, pois considera-se que novas aplicações poderão utilizar mais de uma proposta de rede, sendo capaz de avaliar qual arquitetura melhor lhe atende.</td></tr>\n",
            "<tr><td class=\"metadataFieldLabel dc_identifier_uri\">URI: </td><td class=\"metadataFieldValue dc_identifier_uri\"><a href=\"https://repositorio.ufpe.br/handle/123456789/34459\">https://repositorio.ufpe.br/handle/123456789/34459</a></td></tr>\n",
            "<tr><td class=\"metadataFieldLabel\">Appears in Collections:</td><td class=\"metadataFieldValue\"><a href=\"/handle/123456789/249\">Dissertações de Mestrado - Ciência da Computação</a><br/></td></tr>\n",
            "</table>, <table class=\"table itemDisplayTable\">\n",
            "<tr><td class=\"metadataFieldLabel dc_title\">Title: </td><td class=\"metadataFieldValue dc_title\">Uma extensão da arquitetura de estações ITS ETSI para comunicação entre aplicações ITS, loT e SOME/IP</td></tr>\n",
            "<tr><td class=\"metadataFieldLabel dc_contributor_author\">Authors: </td><td class=\"metadataFieldValue dc_contributor_author\"><a class=\"author\" href=\"/browse?type=author&amp;value=SIM%C3%95ES%2C+Rhudney+Alyson+Menna+Barreto+Konig\">SIMÕES, Rhudney Alyson Menna Barreto Konig</a></td></tr>\n",
            "<tr><td class=\"metadataFieldLabel dc_subject\">Keywords: </td><td class=\"metadataFieldValue dc_subject\">Ciência da computação; Internet das coisas; Avaliação de arquitertura; Carros conectados</td></tr>\n",
            "<tr><td class=\"metadataFieldLabel dc_date_issued\">Issue Date: </td><td class=\"metadataFieldValue dc_date_issued\">15-Sep-2017</td></tr>\n",
            "<tr><td class=\"metadataFieldLabel dc_publisher\">Publisher: </td><td class=\"metadataFieldValue dc_publisher\">Universidade Federal de Pernambuco</td></tr>\n",
            "<tr><td class=\"metadataFieldLabel dc_description_abstract\">Abstract: </td><td class=\"metadataFieldValue dc_description_abstract\">Atualmente, diversos dispositivos podem se conectar a veículos, como smartphones, relógios inteligentes e outros carros. Sendo assim, tecnologias de comunicação com diferen­tes finalidades serão usadas ao mesmo tempo em veículos, como, por exemplo, Bluetooth Smart, IEEE 802.15.4, IEEE 802.llp e 4G /5G / LTE. Ademais, nas redes intraveicu­lares de próxima geração baseadas em Ethernet, o Middleware Escalável Orientado a Serviço sobre IP (SOME/IP Scalable service-Oriented MiddlewarE over IP) apresenta-se como a solução de middleware orientado a serviços para a transmissão de dados não crí­ticos em uma rede Ethernet automotiva. Através do SOME/IP, dados gerados por nós da rede Ethernet automotiva podem ser consumidos através de requisições orientadas a serviços. Segundo o Instituto Europeu de Normas de Telecomunicações (ETSI European Telecommunications Standards Institute), uma Estação de Sistema de Transporte Inte­ ligente (ITS-S Intelligent Transportation System Station) pode ser qualquer dispositivo que implemente a arquitetura de comunicação ETSI ITS. Uma aplicação ITS tem finali­dades diversas e opera na última camada da arquitetura de comunicação de uma ITS-S. Devido às diferentes tecnologias de comunicação que poderiam ser usadas, é extrema­mente complexo e dispendioso criar aplicações ITS para se comunicarem com dispositivos de Internet das Coisas (IoT Internet of Things) e consumirem dados oriundos da rede Ethernet automotiva. Este trabalho propõe uma extensão da arquitetura de uma ITS-S do padrão ETSI, que provê comunicação entre aplicações ITS, dispositivos loT e nós da rede Ethernet. O objetivo deste trabalho é desenvolver e avaliar a extensão proposta. A avaliação foi realizada através da simulação em OMNeT++ de aplicações ITS que se co­ municam com dispositivos loT e nós da rede Ethernet intraveicular usando SOME/IP. A métrica avaliada foi o atraso fim-a-fim entre a realização de requisições por aplicações ITS e a chegada de suas respostas. Resultados de simulação mostram que a extensão proposta neste trabalho atende as restrições de atraso máximo permitido para a comunicação de dados não-críticos.</td></tr>\n",
            "<tr><td class=\"metadataFieldLabel dc_description\">Description: </td><td class=\"metadataFieldValue dc_description\">SIMÕES, Rhudney Alyson Menna Barreto Konig, também é conhecido(a) em citações bibliográficas por: SIMOES, Rhudney Alyson Menna Barreto Konig</td></tr>\n",
            "<tr><td class=\"metadataFieldLabel dc_identifier_uri\">URI: </td><td class=\"metadataFieldValue dc_identifier_uri\"><a href=\"https://repositorio.ufpe.br/handle/123456789/32121\">https://repositorio.ufpe.br/handle/123456789/32121</a></td></tr>\n",
            "<tr><td class=\"metadataFieldLabel\">Appears in Collections:</td><td class=\"metadataFieldValue\"><a href=\"/handle/123456789/249\">Dissertações de Mestrado - Ciência da Computação</a><br/></td></tr>\n",
            "</table>, <table class=\"table itemDisplayTable\">\n",
            "<tr><td class=\"metadataFieldLabel dc_title\">Title: </td><td class=\"metadataFieldValue dc_title\">Uma abordagem de segurança para os dados transmitidos por dispositivos em internet das coisas</td></tr>\n",
            "<tr><td class=\"metadataFieldLabel dc_contributor_author\">Authors: </td><td class=\"metadataFieldValue dc_contributor_author\"><a class=\"author\" href=\"/browse?type=author&amp;value=NEVES%2C+Fl%C3%A1vio+da+Silva\">NEVES, Flávio da Silva</a></td></tr>\n",
            "<tr><td class=\"metadataFieldLabel dc_subject\">Keywords: </td><td class=\"metadataFieldValue dc_subject\">Engenharia de software; Internet das coisas</td></tr>\n",
            "<tr><td class=\"metadataFieldLabel dc_date_issued\">Issue Date: </td><td class=\"metadataFieldValue dc_date_issued\">6-Mar-2017</td></tr>\n",
            "<tr><td class=\"metadataFieldLabel dc_publisher\">Publisher: </td><td class=\"metadataFieldValue dc_publisher\">Universidade Federal de Pernambuco</td></tr>\n",
            "<tr><td class=\"metadataFieldLabel dc_description_abstract\">Abstract: </td><td class=\"metadataFieldValue dc_description_abstract\">Internet das Coisas (IoT) é um paradigma em que vários dispositivos (sensores e atuadores) estão interligados. Esta interconectividade de diferentes tipos de dispositivos gera desafios, tais como: gerenciamento e segurança. Um dos grandes desafios consiste em desenvolver mecanismos que garantam segurança dos dados enviados por dispositivos com recursos limitados, em redes não confiáveis. Portanto, este trabalho tem por objetivo especificar e projetar uma Arquitetura de Software, que forneça segurança aos dados transmitidos em sistemas IoT usando o protocolo MQTT em redes não confiáveis. Geralmente, uma solução que usa Hash dos dados gerados pelo dispositivo, envia esses dados (Mensagem + Hash) juntos. Nesse processo, os dados podem ser interceptados e alterados. Desta forma, o consumidor não identificará que houve uma alteração. Para isso, foi desenvolvida uma técnica usando funções de Hash criptográficas, que visa garantir o requisito confidencialidade aos dados transmitidos pelos dispositivos. Esta técnica proposta gera o Hash do (valor + salt + contador), dessa maneira, é enviado apenas o Hash, a aplicação consumidora terá mecanismos para traduzi-lo para o valor original. Para avaliar a técnica projetada neste trabalho foram feitos alguns testes usando 8 ferramentas para tentar decifrar os valores Hash, que tiveram por objetivo verificar a eficácia da técnica no que diz respeito a garantia de confidencialidade dos dados transmitidos em redes não confiáveis. Outra métrica avaliada é, o quanto de recursos do dispositivo é consumido usando esta solução. Nos testes feitos não foi possível decifrar os valores Hash gerados usando a técnica desenvolvida neste trabalho. Tendo em vista as avaliações realizadas conclui-se que a solução aqui projetada atinge seus objetivos que é garantir a segurança dos dados transmitidos por dispositivos com recursos limitados.</td></tr>\n",
            "<tr><td class=\"metadataFieldLabel dc_identifier_uri\">URI: </td><td class=\"metadataFieldValue dc_identifier_uri\"><a href=\"https://repositorio.ufpe.br/handle/123456789/24888\">https://repositorio.ufpe.br/handle/123456789/24888</a></td></tr>\n",
            "<tr><td class=\"metadataFieldLabel\">Appears in Collections:</td><td class=\"metadataFieldValue\"><a href=\"/handle/123456789/249\">Dissertações de Mestrado - Ciência da Computação</a><br/></td></tr>\n",
            "</table>, <table class=\"table itemDisplayTable\">\n",
            "<tr><td class=\"metadataFieldLabel dc_title\">Title: </td><td class=\"metadataFieldValue dc_title\">Taghunt School: plataforma web das coisas como ferramenta de apoio à educação</td></tr>\n",
            "<tr><td class=\"metadataFieldLabel dc_contributor_author\">Authors: </td><td class=\"metadataFieldValue dc_contributor_author\"><a class=\"author\" href=\"/browse?type=author&amp;value=VIEIRA%2C+Pedro+Fernandes\">VIEIRA, Pedro Fernandes</a></td></tr>\n",
            "<tr><td class=\"metadataFieldLabel dc_subject\">Keywords: </td><td class=\"metadataFieldValue dc_subject\">Redes de computadores; Internet das coisas</td></tr>\n",
            "<tr><td class=\"metadataFieldLabel dc_date_issued\">Issue Date: </td><td class=\"metadataFieldValue dc_date_issued\">24-Aug-2017</td></tr>\n",
            "<tr><td class=\"metadataFieldLabel dc_publisher\">Publisher: </td><td class=\"metadataFieldValue dc_publisher\">Universidade Federal de Pernambuco</td></tr>\n",
            "<tr><td class=\"metadataFieldLabel dc_description_abstract\">Abstract: </td><td class=\"metadataFieldValue dc_description_abstract\">Entre os vários problemas sociais e econômicos que vivemos atualmente no Brasil, podemos destacar a necessidade de melhorias no sistema educacional. O que é animador é que houve um crescimento do interesse de pesquisadores preocupados em propor soluções de melhoria e ampliação deste sistema educacional. Soluções que visam diminuir a retenção e evasão de estudantes, melhorar a formação de professores, propor uma formação dos estudantes que favoreça a inserção destes no mercado de trabalho, dentre outras. Por outro lado, alguns pesquisadores procuram contribuir com a melhoria na qualidade do sistema educacional, através do aprimoramento de procedimentos de ensino, propondo soluções para tornar o ambiente de aprendizado mais agradável e motivador, desde a sala de aula até ambientes virtuais de aprendizagem. Algumas dessas soluções utilizam jogos digitais com técnicas de Gamificação e outros fazem uso da robótica em sala de aula. Foram identificados estudos que avaliam o engajamento e a motivação proporcionados pelo uso desses jogos em ambientes de ensino. Entretanto, nenhum deles utiliza tecnologias de Internet das Coisas. A presente pesquisa aborda o uso de um jogo digital de caça ao tesouro, que utiliza tecnologias de Internet das Coisas, para favorecer o engajamento dos estudantes em sala de aula. Esta pesquisa caracteriza-se como uma pesquisa aplicada, de base empírica e de natureza qualitativa, que utiliza a estratégia da pesquisa-ação. Para a coleta de dados foram realizadas entrevistas com professores, guiadas por roteiros semiestruturados. Através da análise dos dados obtidos, foi possível identificar, no discurso dos professores, que eles têm interesse em utilizar ferramentas similares para proporcionar um maior engajamento dos estudantes em sala de aula. Os resultados indicaram indícios de que os estudantes estavam engajados durante a intervenção proposta pela pesquisa. Apesar desses indícios, não se pode concluir sobre a efetividade do uso de um jogo digital de caça ao tesouro, que utiliza tecnologias de Internet das Coisas, no engajamento dos estudantes em sala de aula. Ao realizar-se uma análise geral, levando-se em consideração os relatos dos professores, foi constatado que é possível utilizar jogos digitais em atividades pedagógicas, sem prejudicar a própria atividade instrucional. Essa pesquisa também despertou para a necessidade de uma discussão mais aprofundada sobre o uso de Tecnologias Digitais da Informação e da Comunicação (TDIC), como ferramenta de apoio a educação.</td></tr>\n",
            "<tr><td class=\"metadataFieldLabel dc_identifier_uri\">URI: </td><td class=\"metadataFieldValue dc_identifier_uri\"><a href=\"https://repositorio.ufpe.br/handle/123456789/28006\">https://repositorio.ufpe.br/handle/123456789/28006</a></td></tr>\n",
            "<tr><td class=\"metadataFieldLabel\">Appears in Collections:</td><td class=\"metadataFieldValue\"><a href=\"/handle/123456789/249\">Dissertações de Mestrado - Ciência da Computação</a><br/></td></tr>\n",
            "</table>, <table class=\"table itemDisplayTable\">\n",
            "<tr><td class=\"metadataFieldLabel dc_title\">Title: </td><td class=\"metadataFieldValue dc_title\">Um catálogo de provedores de dados para a Internet das coisas</td></tr>\n",
            "<tr><td class=\"metadataFieldLabel dc_contributor_author\">Authors: </td><td class=\"metadataFieldValue dc_contributor_author\"><a class=\"author\" href=\"/browse?type=author&amp;value=SILVA%2C+Emanoel+Carlos+Gomes+Ferraz\">SILVA, Emanoel Carlos Gomes Ferraz</a></td></tr>\n",
            "<tr><td class=\"metadataFieldLabel dc_subject\">Keywords: </td><td class=\"metadataFieldValue dc_subject\">Redes de computadores; Qualidade de dados; Internet</td></tr>\n",
            "<tr><td class=\"metadataFieldLabel dc_date_issued\">Issue Date: </td><td class=\"metadataFieldValue dc_date_issued\">5-Sep-2016</td></tr>\n",
            "<tr><td class=\"metadataFieldLabel dc_publisher\">Publisher: </td><td class=\"metadataFieldValue dc_publisher\">Universidade Federal de Pernambuco</td></tr>\n",
            "<tr><td class=\"metadataFieldLabel dc_description_abstract\">Abstract: </td><td class=\"metadataFieldValue dc_description_abstract\">Com a ascensão da Internet das Coisas (Internet of Things, IoT), bilhões de dispositivos estarão conectados à internet do futuro produzindo, consumindo e processando dados, além de se comunicarem uns com os outros. Através de plataformas de dados sem domínio específico, desenvolvedores, cientistas e entusiastas poderão fazer uso destes dispositivos em suas aplicações sem necessariamente ter conhecimento técnico de baixo nível, como os protocolos de comunicação. Assim, descobrir e selecionar de forma eficiente os dispositivos que melhor respondem a uma determinada necessidade se mostram como problemas relevantes a serem investigados no paradigma da Internet das Coisas. Este trabalho auxilia mecanismos de busca de fontes produtoras de dados, propondo uma técnica que possa, de forma objetiva, indicar quais destas entidades são mais apropriadas, considerando como critérios os seus atributos de qualidade. Para tanto, foram consideradas questões de interoperabilidade no formato dos dados gerados pelos produtores de dados e dos metadados de sua descrição; escalabilidade, na técnica proposta para o ranqueamento dos produtores de dados identificados pelo mecanismo de seleção e, por fim, monitoramento dos indicadores de qualidade dos produtores de dados. Como principais contribuições deste trabalho estão: (i) o uso e o monitoramento dinâmico de métricas de qualidade na descrição dos produtores de dados, (ii) proposta de uma técnica de ranqueamento de produtores de dados que utilize atributos de qualidade diversos e que acompanhe as características dinâmicas dos produtores de dados (iii) a proposta do conceito de fila dinâmica de resultados no mecanismo de busca, visando economia de processamento e ganho de desempenho e (iv) uso do estilo arquitetural REST para a oferta dos produtores de dados como recursos. Por fim, foi considerado um cenário de uso do aplicativo móvel Bike Cidadão com o objetivo de avaliar a performance das contribuições propostas. A avaliação observou, sobretudo, o tempo de resposta necessário à execução de consultas ao catálogo utilizando, ou não, o conceito de fila dinâmica de resultados em diferentes situações, variando a quantidade de consumidores e produtores de dados disponíveis.</td></tr>\n",
            "<tr><td class=\"metadataFieldLabel dc_identifier_uri\">URI: </td><td class=\"metadataFieldValue dc_identifier_uri\"><a href=\"https://repositorio.ufpe.br/handle/123456789/25680\">https://repositorio.ufpe.br/handle/123456789/25680</a></td></tr>\n",
            "<tr><td class=\"metadataFieldLabel\">Appears in Collections:</td><td class=\"metadataFieldValue\"><a href=\"/handle/123456789/249\">Dissertações de Mestrado - Ciência da Computação</a><br/></td></tr>\n",
            "</table>, <table class=\"table itemDisplayTable\">\n",
            "<tr><td class=\"metadataFieldLabel dc_title\">Title: </td><td class=\"metadataFieldValue dc_title\">Responsabilidade do provedor pelos danos praticados na Internet</td></tr>\n",
            "<tr><td class=\"metadataFieldLabel dc_contributor_author\">Authors: </td><td class=\"metadataFieldValue dc_contributor_author\"><a class=\"author\" href=\"/browse?type=author&amp;value=VASCONCELOS%2C+Fernando+Ant%C3%B4nio+de\">VASCONCELOS, Fernando Antônio de</a></td></tr>\n",
            "<tr><td class=\"metadataFieldLabel dc_subject\">Keywords: </td><td class=\"metadataFieldValue dc_subject\">Internet; Provedor; Direito do Consumidor; Responsabilidade</td></tr>\n",
            "<tr><td class=\"metadataFieldLabel dc_date_issued\">Issue Date: </td><td class=\"metadataFieldValue dc_date_issued\">2002</td></tr>\n",
            "<tr><td class=\"metadataFieldLabel dc_publisher\">Publisher: </td><td class=\"metadataFieldValue dc_publisher\">Universidade Federal de Pernambuco</td></tr>\n",
            "<tr><td class=\"metadataFieldLabel dc_identifier_citation\">Citation: </td><td class=\"metadataFieldValue dc_identifier_citation\">Antônio de Vasconcelos, Fernando; Luiz Netto Lôbo, Paulo. Responsabilidade do provedor pelos danos praticados na Internet. 2002. Tese (Doutorado). Programa de Pós-Graduação em Direito, Universidade Federal de Pernambuco, Recife, 2002.</td></tr>\n",
            "<tr><td class=\"metadataFieldLabel dc_description_abstract\">Abstract: </td><td class=\"metadataFieldValue dc_description_abstract\">Análise doutrinária, jurisprudencial e empírica de alguns aspectos do fenômeno Internet,\r\n",
            "que revolucionou o modo de comunicação das pessoas. Criando um novo meio virtual de\r\n",
            "inter-relacionamento, proporcionou grandes conquistas na área tecnológica e, trazendo uma\r\n",
            "infinidade de problemas, afetou sobremodo as relações contratuais. E nessa nova área,\r\n",
            "denominada Tecnologia da Informação, surgiram vários sujeitos, tecnicamente perfeitos,\r\n",
            "porém submetidos às regras do mundo jurídico no tocante a direitos, obrigações e,\r\n",
            "principalmente, responsabilidades. O provedor de Internet, que é o operador e o elo de\r\n",
            "ligação entre o usuário e esse mundo cibernético é considerado, à luz da legislação\r\n",
            "brasileira, um fornecedor de serviços, sujeito, portanto, às regras do Código de Defesa do\r\n",
            "Consumidor. As pesquisas que serviram de base ao presente trabalho permitiram o\r\n",
            "delineamento de algumas questões nunca dantes suscitadas e a definição de\r\n",
            "responsabilidades, principalmente quando se praticam danos de natureza patrimonial ou\r\n",
            "extrapatrimonial contra o consumidor, tecnicamente hipossuficiente nesse complicado rol\r\n",
            "de siglas e termos técnicos muitas vezes incompreensíveis. O consumidor usuário da\r\n",
            "Internet tem problemas seriíssimos de conexão, de acesso, de transmissão de vírus, de\r\n",
            "invasão de sua privacidade, de recebimento excessivo de mensagens não solicitadas e, na\r\n",
            "maioria dos casos, se sente um ser solitário, inserido num mundo cibernético,\r\n",
            "aparentemente sem leis e sem justiça. Mas, o trabalho demonstra que há regras\r\n",
            "perfeitamente aplicáveis ao espaço virtual, inseridas num sistema global de proteção ao\r\n",
            "consumidor, seja este contratante ou vítima do evento danoso</td></tr>\n",
            "<tr><td class=\"metadataFieldLabel dc_identifier_uri\">URI: </td><td class=\"metadataFieldValue dc_identifier_uri\"><a href=\"https://repositorio.ufpe.br/handle/123456789/3997\">https://repositorio.ufpe.br/handle/123456789/3997</a></td></tr>\n",
            "<tr><td class=\"metadataFieldLabel\">Appears in Collections:</td><td class=\"metadataFieldValue\"><a href=\"/handle/123456789/268\">Teses de Doutorado - Direito</a><br/></td></tr>\n",
            "</table>, <table class=\"table itemDisplayTable\">\n",
            "<tr><td class=\"metadataFieldLabel dc_title\">Title: </td><td class=\"metadataFieldValue dc_title\">Algoritmos de localização de etiquetas RFID em bibliotecas baseadas na Internet das coisas</td></tr>\n",
            "<tr><td class=\"metadataFieldLabel dc_contributor_author\">Authors: </td><td class=\"metadataFieldValue dc_contributor_author\"><a class=\"author\" href=\"/browse?type=author&amp;value=NASCIMENTO%2C+Rony+Joab+do\">NASCIMENTO, Rony Joab do</a></td></tr>\n",
            "<tr><td class=\"metadataFieldLabel dc_subject\">Keywords: </td><td class=\"metadataFieldValue dc_subject\">Redes de computadores; Internet das coisas</td></tr>\n",
            "<tr><td class=\"metadataFieldLabel dc_date_issued\">Issue Date: </td><td class=\"metadataFieldValue dc_date_issued\">15-Dec-2016</td></tr>\n",
            "<tr><td class=\"metadataFieldLabel dc_publisher\">Publisher: </td><td class=\"metadataFieldValue dc_publisher\">Universidade Federal de Pernambuco</td></tr>\n",
            "<tr><td class=\"metadataFieldLabel dc_description_abstract\">Abstract: </td><td class=\"metadataFieldValue dc_description_abstract\">A identificação automática de objetos na Internet das Coisas vem sendo suportada por sistemas RFID (Radio Frequency IDentification) e por redes de sensores. Outra aplicação para RFID na Internet das Coisas (IoT – Internet of Things) é a localização automática de objetos através de medidas de força de sinal. O desafio está em prover algoritmos que minimizem erros de localização de acordo com o ambiente e objetos de interesse e condições de propagação de sinais. Esta dissertação propõe dois algoritmos de localização para sistemas RFID: VIRE-R e LANDMARC 2. A precisão desses algoritmos é avaliada em cenários de localização de livros com etiquetas passivas em bibliotecas e confrontada com a obtida por outras propostas no estado da arte. Estes cenários estão entre os mais desafiadores para algoritmos de localização interna baseados em força de sinal. Os experimentos foram realizados com o uso de simulação, onde foram modeladas duas bibliotecas pertencentes ao Sistema de Bibliotecas da UFPE e com diferentes configurações de posicionamento de leitores e etiquetas. Este trabalho contribui apresentando avaliações de desempenho em cenários específicos de bibliotecas, indicando um melhor posicionamento da infraestrutura de leitores e etiquetas, e um algoritmo, o LANDMARC 2, que possui desempenho igual ou superior aos outros algoritmos estudados.</td></tr>\n",
            "<tr><td class=\"metadataFieldLabel dc_identifier_uri\">URI: </td><td class=\"metadataFieldValue dc_identifier_uri\"><a href=\"https://repositorio.ufpe.br/handle/123456789/22418\">https://repositorio.ufpe.br/handle/123456789/22418</a></td></tr>\n",
            "<tr><td class=\"metadataFieldLabel\">Appears in Collections:</td><td class=\"metadataFieldValue\"><a href=\"/handle/123456789/249\">Dissertações de Mestrado - Ciência da Computação</a><br/></td></tr>\n",
            "</table>]\n"
          ]
        }
      ]
    },
    {
      "cell_type": "markdown",
      "id": "248ec2f9-7442-4d06-9b7f-72fd79881362",
      "metadata": {
        "id": "248ec2f9-7442-4d06-9b7f-72fd79881362"
      },
      "source": [
        "### Saving files"
      ]
    },
    {
      "cell_type": "code",
      "execution_count": 49,
      "id": "13db3877-7f82-47c0-b982-943a75c42fcc",
      "metadata": {
        "id": "13db3877-7f82-47c0-b982-943a75c42fcc"
      },
      "outputs": [],
      "source": [
        "counter = 1\n",
        "path = Path(\"./output\")\n",
        "query = query.replace(\" \", \"_\")\n",
        "\n",
        "if not path.exists():\n",
        "    path.mkdir() #Se pasta não existir, cria pasta output\n",
        "    \n",
        "if not Path(f\"{path}/{query}\").exists():\n",
        "    Path(f\"{path}/{query}\").mkdir() #Se pasta da query não existir, cria pasta da query dentro de output\n",
        "\n",
        "for table in info_table:\n",
        "    output = read_table_get_title_and_abstract(table)\n",
        "    \n",
        "    with open(f\"./output/{query}/thesis{counter}.json\", 'w') as json_file:\n",
        "        json.dump(output, json_file) #Salva os textos como json\n",
        "        \n",
        "    counter = counter + 1"
      ]
    },
    {
      "cell_type": "code",
      "source": [
        "!zip -r /content/output.zip /content/output"
      ],
      "metadata": {
        "colab": {
          "base_uri": "https://localhost:8080/"
        },
        "id": "N-9AgIrM__LR",
        "outputId": "4368000e-6e5f-4e86-d2c7-b66b0f4c0005"
      },
      "id": "N-9AgIrM__LR",
      "execution_count": 52,
      "outputs": [
        {
          "output_type": "stream",
          "name": "stdout",
          "text": [
            "  adding: content/output/ (stored 0%)\n",
            "  adding: content/output/doenças_hereditárias/ (stored 0%)\n",
            "  adding: content/output/doenças_hereditárias/thesis9.json (deflated 57%)\n",
            "  adding: content/output/doenças_hereditárias/thesis1.json (deflated 62%)\n",
            "  adding: content/output/doenças_hereditárias/thesis10.json (deflated 58%)\n",
            "  adding: content/output/doenças_hereditárias/thesis2.json (deflated 52%)\n",
            "  adding: content/output/doenças_hereditárias/thesis3.json (deflated 57%)\n",
            "  adding: content/output/doenças_hereditárias/thesis4.json (deflated 61%)\n",
            "  adding: content/output/doenças_hereditárias/thesis7.json (deflated 60%)\n",
            "  adding: content/output/doenças_hereditárias/thesis5.json (deflated 52%)\n",
            "  adding: content/output/doenças_hereditárias/thesis6.json (deflated 56%)\n",
            "  adding: content/output/doenças_hereditárias/thesis8.json (deflated 59%)\n",
            "  adding: content/output/reconhecimento_facial/ (stored 0%)\n",
            "  adding: content/output/reconhecimento_facial/thesis9.json (deflated 57%)\n",
            "  adding: content/output/reconhecimento_facial/thesis1.json (deflated 60%)\n",
            "  adding: content/output/reconhecimento_facial/thesis10.json (deflated 58%)\n",
            "  adding: content/output/reconhecimento_facial/thesis2.json (deflated 65%)\n",
            "  adding: content/output/reconhecimento_facial/thesis3.json (deflated 59%)\n",
            "  adding: content/output/reconhecimento_facial/thesis4.json (deflated 59%)\n",
            "  adding: content/output/reconhecimento_facial/thesis7.json (deflated 65%)\n",
            "  adding: content/output/reconhecimento_facial/thesis5.json (deflated 61%)\n",
            "  adding: content/output/reconhecimento_facial/thesis6.json (deflated 56%)\n",
            "  adding: content/output/reconhecimento_facial/thesis8.json (deflated 58%)\n",
            "  adding: content/output/analise_forense/ (stored 0%)\n",
            "  adding: content/output/analise_forense/thesis9.json (deflated 54%)\n",
            "  adding: content/output/analise_forense/thesis1.json (deflated 58%)\n",
            "  adding: content/output/analise_forense/thesis10.json (deflated 57%)\n",
            "  adding: content/output/analise_forense/thesis2.json (deflated 60%)\n",
            "  adding: content/output/analise_forense/thesis3.json (deflated 55%)\n",
            "  adding: content/output/analise_forense/thesis4.json (deflated 59%)\n",
            "  adding: content/output/analise_forense/thesis7.json (deflated 62%)\n",
            "  adding: content/output/analise_forense/thesis5.json (deflated 55%)\n",
            "  adding: content/output/analise_forense/thesis6.json (deflated 57%)\n",
            "  adding: content/output/analise_forense/thesis8.json (deflated 57%)\n",
            "  adding: content/output/inteligencia_artificial/ (stored 0%)\n",
            "  adding: content/output/inteligencia_artificial/thesis9.json (deflated 52%)\n",
            "  adding: content/output/inteligencia_artificial/thesis1.json (deflated 60%)\n",
            "  adding: content/output/inteligencia_artificial/thesis10.json (deflated 58%)\n",
            "  adding: content/output/inteligencia_artificial/thesis2.json (deflated 49%)\n",
            "  adding: content/output/inteligencia_artificial/thesis3.json (deflated 52%)\n",
            "  adding: content/output/inteligencia_artificial/thesis4.json (deflated 48%)\n",
            "  adding: content/output/inteligencia_artificial/thesis7.json (deflated 57%)\n",
            "  adding: content/output/inteligencia_artificial/thesis5.json (deflated 54%)\n",
            "  adding: content/output/inteligencia_artificial/thesis6.json (deflated 56%)\n",
            "  adding: content/output/inteligencia_artificial/thesis8.json (deflated 54%)\n",
            "  adding: content/output/internet_das_coisas/ (stored 0%)\n",
            "  adding: content/output/internet_das_coisas/thesis9.json (deflated 54%)\n",
            "  adding: content/output/internet_das_coisas/thesis1.json (deflated 53%)\n",
            "  adding: content/output/internet_das_coisas/thesis10.json (deflated 58%)\n",
            "  adding: content/output/internet_das_coisas/thesis2.json (deflated 57%)\n",
            "  adding: content/output/internet_das_coisas/thesis3.json (deflated 56%)\n",
            "  adding: content/output/internet_das_coisas/thesis4.json (deflated 58%)\n",
            "  adding: content/output/internet_das_coisas/thesis7.json (deflated 60%)\n",
            "  adding: content/output/internet_das_coisas/thesis5.json (deflated 60%)\n",
            "  adding: content/output/internet_das_coisas/thesis6.json (deflated 59%)\n",
            "  adding: content/output/internet_das_coisas/thesis8.json (deflated 58%)\n"
          ]
        }
      ]
    }
  ],
  "metadata": {
    "kernelspec": {
      "display_name": "cesarnlp:Python",
      "language": "python",
      "name": "conda-env-cesarnlp-py"
    },
    "language_info": {
      "codemirror_mode": {
        "name": "ipython",
        "version": 3
      },
      "file_extension": ".py",
      "mimetype": "text/x-python",
      "name": "python",
      "nbconvert_exporter": "python",
      "pygments_lexer": "ipython3",
      "version": "3.11.0"
    },
    "colab": {
      "provenance": []
    }
  },
  "nbformat": 4,
  "nbformat_minor": 5
}